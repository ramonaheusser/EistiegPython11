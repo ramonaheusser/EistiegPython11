{
 "cells": [
  {
   "cell_type": "markdown",
   "id": "healthy-bottle",
   "metadata": {},
   "source": [
    "# Algorithmus erdacht - wir implementieren den Algorithmus in eine Programmiersprache"
   ]
  },
  {
   "cell_type": "markdown",
   "id": "great-performer",
   "metadata": {},
   "source": [
    "## Verarbeiten von Zeichenketten und Zufallszahlen in Python "
   ]
  },
  {
   "cell_type": "markdown",
   "id": "skilled-thesis",
   "metadata": {},
   "source": [
    "Heute bearbeiten wir unser drittes Notebook\n",
    "- **Zeichen** bilden als Buchstaben, Ziffern oder Sonderzeichen Teile von Passwörtern\n",
    "- **Sichere Passwörter** haben nicht nur eine Mindestlänge, sondern beinhalten auch **Zeichen verschiedener Sorten**\n",
    "-\n",
    "- **zufällige Positionen im ASCII-Zeichensatz (digitales Grundalphabet)** liefern zufällige Zeichen in zu generierenden sicheren Passwörtern"
   ]
  },
  {
   "cell_type": "markdown",
   "id": "fabulous-variable",
   "metadata": {},
   "source": [
    "### Ziel: Programm zur Generierung eines sicheren Passwortes \n",
    "- **Erweiterung1:** die enthaltenen Zeichensorten können vom User festgelegt werden\n",
    "- **Erweiterung2:** die Anordnung der Zeichen im Passwort erfolgt zufällig"
   ]
  },
  {
   "cell_type": "markdown",
   "id": "removed-johnston",
   "metadata": {},
   "source": [
    "### Etappe1: Verarbeiten von Zeichenketten in Python  \n",
    "### Inhalt\n",
    "- **Chars, ord, chr** \n",
    "- **Strings**"
   ]
  },
  {
   "cell_type": "markdown",
   "id": "connected-curve",
   "metadata": {
    "slideshow": {
     "slide_type": "slide"
    }
   },
   "source": [
    "### Chars"
   ]
  },
  {
   "cell_type": "markdown",
   "id": "abandoned-immunology",
   "metadata": {
    "pycharm": {
     "name": "#%% md\n"
    }
   },
   "source": [
    "- ein **Char** ist ein einzelnes Zeichen \n",
    "- ein Char wird in Python entweder durch \" oder ' definiert (am Ende und Anfang des Char)\n",
    "- In einem `print`-Befehl dürfen Datentypen nicht vermischt werden (außer bei der Verwendung von Kommata)\n",
    "- Die Funktion `ord` gibt die Positionszahl des Zeichens im ASCII-Alphabet zurück\n",
    "- Die Funktion `chr` gibt das Zeichen an der Position im ASCII-Alphabet zurück\n"
   ]
  },
  {
   "cell_type": "code",
   "execution_count": 43,
   "id": "criminal-rabbit",
   "metadata": {
    "collapsed": true,
    "jupyter": {
     "outputs_hidden": true
    }
   },
   "outputs": [
    {
     "name": "stdout",
     "output_type": "stream",
     "text": [
      "ASCII-Code von A:  65\n"
     ]
    }
   ],
   "source": [
    "ascii_code = ord(\"A\")\n",
    "print(\"ASCII-Code von A: \", ascii_code)"
   ]
  },
  {
   "cell_type": "code",
   "execution_count": 45,
   "id": "individual-japan",
   "metadata": {
    "collapsed": true,
    "jupyter": {
     "outputs_hidden": true
    },
    "slideshow": {
     "slide_type": "slide"
    },
    "tags": []
   },
   "outputs": [
    {
     "name": "stdout",
     "output_type": "stream",
     "text": [
      "Buchstabe von ASCII-Code 90:  Z\n"
     ]
    }
   ],
   "source": [
    "buchstabe = chr(90)\n",
    "print(\"Buchstabe von ASCII-Code 90: \", buchstabe)"
   ]
  },
  {
   "cell_type": "code",
   "execution_count": 46,
   "id": "hidden-romantic",
   "metadata": {
    "collapsed": true,
    "jupyter": {
     "outputs_hidden": true
    },
    "slideshow": {
     "slide_type": "subslide"
    }
   },
   "outputs": [
    {
     "name": "stdout",
     "output_type": "stream",
     "text": [
      "Q\n"
     ]
    }
   ],
   "source": [
    "print(\"Q\")"
   ]
  },
  {
   "cell_type": "code",
   "execution_count": 47,
   "id": "joined-popularity",
   "metadata": {
    "collapsed": true,
    "jupyter": {
     "outputs_hidden": true
    },
    "slideshow": {
     "slide_type": "subslide"
    }
   },
   "outputs": [
    {
     "name": "stdout",
     "output_type": "stream",
     "text": [
      "Q\n"
     ]
    }
   ],
   "source": [
    "a = \"Q\"\n",
    "print(a)"
   ]
  },
  {
   "cell_type": "code",
   "execution_count": 48,
   "id": "studied-senator",
   "metadata": {
    "collapsed": true,
    "jupyter": {
     "outputs_hidden": true
    }
   },
   "outputs": [
    {
     "name": "stdout",
     "output_type": "stream",
     "text": [
      "81\n"
     ]
    }
   ],
   "source": [
    "p = ord(\"Q\")\n",
    "print(p)"
   ]
  },
  {
   "cell_type": "code",
   "execution_count": 49,
   "id": "postal-kingdom",
   "metadata": {
    "collapsed": true,
    "jupyter": {
     "outputs_hidden": true
    }
   },
   "outputs": [
    {
     "name": "stdout",
     "output_type": "stream",
     "text": [
      "Q\n"
     ]
    }
   ],
   "source": [
    "a = chr(81)\n",
    "print(a)"
   ]
  },
  {
   "cell_type": "markdown",
   "id": "norman-exhaust",
   "metadata": {
    "slideshow": {
     "slide_type": "slide"
    }
   },
   "source": [
    "### Strings"
   ]
  },
  {
   "cell_type": "markdown",
   "id": "herbal-samba",
   "metadata": {
    "pycharm": {
     "name": "#%% md\n"
    }
   },
   "source": [
    "- **Strings** werden in Python entweder **durch \" oder ' definiert** (am Ende und Anfang des Strings)\n",
    "- Ein String mit 3 x \" am Ende und Anfang kann über mehrere Zeilen gehen\n",
    "- In einem `print`-Befehl dürfen Datentypen nicht vermischt werden (außer bei der Verwendung von Kommata)\n",
    "- Die Funktion `str` wandelt einen Datentyp in einen String um\n",
    "- Die Funktion `int` wandelt einen Datentyp in einen Integer um\n",
    "- Die Funktion `float` wandelt einen Datentyp in einen Float um"
   ]
  },
  {
   "cell_type": "code",
   "execution_count": 50,
   "id": "correct-syndrome",
   "metadata": {
    "collapsed": true,
    "jupyter": {
     "outputs_hidden": true
    },
    "slideshow": {
     "slide_type": "subslide"
    }
   },
   "outputs": [
    {
     "name": "stdout",
     "output_type": "stream",
     "text": [
      "Hallo Welt!\n",
      "Hallo Welt!\n"
     ]
    }
   ],
   "source": [
    "print(\"Hallo Welt!\")\n",
    "print('Hallo Welt!')"
   ]
  },
  {
   "cell_type": "code",
   "execution_count": 51,
   "id": "lesbian-arrangement",
   "metadata": {
    "collapsed": true,
    "jupyter": {
     "outputs_hidden": true
    },
    "slideshow": {
     "slide_type": "subslide"
    }
   },
   "outputs": [
    {
     "name": "stdout",
     "output_type": "stream",
     "text": [
      "13+17=30\n"
     ]
    }
   ],
   "source": [
    "print(\"13+17=30\")"
   ]
  },
  {
   "cell_type": "code",
   "execution_count": 52,
   "id": "downtown-settlement",
   "metadata": {
    "collapsed": true,
    "jupyter": {
     "outputs_hidden": true
    },
    "slideshow": {
     "slide_type": "subslide"
    }
   },
   "outputs": [
    {
     "name": "stdout",
     "output_type": "stream",
     "text": [
      "Sicheres \n",
      "            Passwort\n"
     ]
    }
   ],
   "source": [
    "print(\"\"\"Sicheres \n",
    "            Passwort\"\"\")"
   ]
  },
  {
   "cell_type": "code",
   "execution_count": 8,
   "id": "backed-roller",
   "metadata": {
    "collapsed": true,
    "jupyter": {
     "outputs_hidden": true
    },
    "slideshow": {
     "slide_type": "subslide"
    }
   },
   "outputs": [
    {
     "name": "stdout",
     "output_type": "stream",
     "text": [
      "007\n"
     ]
    }
   ],
   "source": [
    "print(\"00\" + str(7))"
   ]
  },
  {
   "cell_type": "code",
   "execution_count": 9,
   "id": "vanilla-distribution",
   "metadata": {
    "collapsed": true,
    "jupyter": {
     "outputs_hidden": true
    },
    "slideshow": {
     "slide_type": "subslide"
    }
   },
   "outputs": [
    {
     "name": "stdout",
     "output_type": "stream",
     "text": [
      "8\n"
     ]
    }
   ],
   "source": [
    "print(int(\"1\") + 7)"
   ]
  },
  {
   "cell_type": "markdown",
   "id": "enclosed-snowboard",
   "metadata": {},
   "source": [
    "### Verknüpfen von Strings und Chars mit +"
   ]
  },
  {
   "cell_type": "code",
   "execution_count": 53,
   "id": "moved-milwaukee",
   "metadata": {
    "collapsed": true,
    "jupyter": {
     "outputs_hidden": true
    }
   },
   "outputs": [
    {
     "name": "stdout",
     "output_type": "stream",
     "text": [
      "Du\n"
     ]
    }
   ],
   "source": [
    "wort = \"D\" + \"u\"\n",
    "print(wort)"
   ]
  },
  {
   "cell_type": "code",
   "execution_count": 54,
   "id": "closed-clearing",
   "metadata": {
    "collapsed": true,
    "jupyter": {
     "outputs_hidden": true
    }
   },
   "outputs": [
    {
     "name": "stdout",
     "output_type": "stream",
     "text": [
      "Du\n"
     ]
    }
   ],
   "source": [
    "v1 = \"D\"\n",
    "v2 = \"u\"\n",
    "wort = v1 + v2\n",
    "print(wort)"
   ]
  },
  {
   "cell_type": "code",
   "execution_count": 55,
   "id": "operational-submission",
   "metadata": {
    "collapsed": true,
    "jupyter": {
     "outputs_hidden": true
    }
   },
   "outputs": [
    {
     "name": "stdout",
     "output_type": "stream",
     "text": [
      "Ich habe Hunger.\n"
     ]
    }
   ],
   "source": [
    "w1 = \"Ich \"\n",
    "w2 = \"habe \"\n",
    "w3 = \"Hunger.\"\n",
    "satz = w1 + w2 + w3\n",
    "print(satz)"
   ]
  },
  {
   "cell_type": "markdown",
   "id": "front-astrology",
   "metadata": {
    "slideshow": {
     "slide_type": "skip"
    }
   },
   "source": [
    "## Aufgabe 1:\n",
    "\n",
    "- Gib den String \"Hello World!\" mit Hilfe der Variablen `s1`, `s2` und `s3` aus! "
   ]
  },
  {
   "cell_type": "code",
   "execution_count": 35,
   "id": "boolean-turning",
   "metadata": {
    "collapsed": true,
    "jupyter": {
     "outputs_hidden": true
    },
    "slideshow": {
     "slide_type": "skip"
    }
   },
   "outputs": [
    {
     "name": "stdout",
     "output_type": "stream",
     "text": [
      "Hello  World  !\n"
     ]
    }
   ],
   "source": [
    "s1 = \"Hello \"\n",
    "s2 = \"World \"\n",
    "s3 = \"!\"\n",
    "\n",
    "# Ihr Code ab hier:\n",
    "\n"
   ]
  },
  {
   "cell_type": "markdown",
   "id": "recreational-complement",
   "metadata": {
    "slideshow": {
     "slide_type": "slide"
    }
   },
   "source": [
    "## Beachte: Variablen für unterschiedliche Datentypen\n",
    "\n",
    "- Wir wissen bereits: Variablen werden Werte mit `=` zugewiesen\n",
    "- Im Gegensatz zu den meisten Programmiersprachen wird in Python nicht typisiert\n",
    "        -> somit kann theoretisch auch der Datentyp einer Variablen geändert werden, dies gilt jedoch als \"Code Smell\""
   ]
  },
  {
   "cell_type": "code",
   "execution_count": null,
   "id": "apparent-reducing",
   "metadata": {},
   "outputs": [],
   "source": []
  },
  {
   "cell_type": "markdown",
   "id": "built-potter",
   "metadata": {},
   "source": [
    "### Etappe2: Zufallszahlen in Python"
   ]
  },
  {
   "cell_type": "markdown",
   "id": "desperate-liberty",
   "metadata": {},
   "source": [
    "### Inhalt\n",
    "- **from random import** \n",
    "- **random()**\n",
    "- **randint(1, n)**\n"
   ]
  },
  {
   "cell_type": "markdown",
   "id": "signed-memory",
   "metadata": {
    "slideshow": {
     "slide_type": "slide"
    }
   },
   "source": [
    "## random und randint\n",
    "\n",
    "- binde zuerst mit `from random import *`  den Zufallsgenerator von Python ein\n",
    "- **random()** gibt eine **Zufallszahl zwischen 0 und 1** zurück\n",
    "- **randint(1, 100)** gibt eine **Zufallszahl zwischen 0 und 100** zurück\n",
    "- **allgemein: randint(1, n)** gibt eine **Zufallszahl zwischen 0 und n** zurück"
   ]
  },
  {
   "cell_type": "markdown",
   "id": "cathedral-fisher",
   "metadata": {
    "slideshow": {
     "slide_type": "skip"
    }
   },
   "source": [
    "## Aufgabe 2: \n",
    "\n",
    "- Experimentiere mit dem random-Befehl: Vermute zuerst die Ausgabe, überprüfe dann durch Ausführen des Programmcodes."
   ]
  },
  {
   "cell_type": "code",
   "execution_count": 23,
   "id": "loose-jungle",
   "metadata": {
    "collapsed": true,
    "jupyter": {
     "outputs_hidden": true
    }
   },
   "outputs": [
    {
     "name": "stdout",
     "output_type": "stream",
     "text": [
      "0.9094512715985986\n"
     ]
    }
   ],
   "source": [
    "from random import *\n",
    "z = random()\n",
    "print(z)"
   ]
  },
  {
   "cell_type": "code",
   "execution_count": 24,
   "id": "judicial-voice",
   "metadata": {
    "collapsed": true,
    "jupyter": {
     "outputs_hidden": true
    }
   },
   "outputs": [
    {
     "name": "stdout",
     "output_type": "stream",
     "text": [
      "51.111071454632494\n"
     ]
    }
   ],
   "source": [
    "from random import *\n",
    "z = random()*100\n",
    "print(z)"
   ]
  },
  {
   "cell_type": "code",
   "execution_count": 25,
   "id": "placed-education",
   "metadata": {
    "collapsed": true,
    "jupyter": {
     "outputs_hidden": true
    }
   },
   "outputs": [
    {
     "name": "stdout",
     "output_type": "stream",
     "text": [
      "40\n"
     ]
    }
   ],
   "source": [
    "from random import *\n",
    "z = round(random()*100)\n",
    "print(z)"
   ]
  },
  {
   "cell_type": "code",
   "execution_count": 26,
   "id": "accessory-immunology",
   "metadata": {
    "collapsed": true,
    "jupyter": {
     "outputs_hidden": true
    }
   },
   "outputs": [
    {
     "name": "stdout",
     "output_type": "stream",
     "text": [
      "7\n"
     ]
    }
   ],
   "source": [
    "from random import *\n",
    "z = randint(1, 10)\n",
    "print(z)"
   ]
  },
  {
   "cell_type": "code",
   "execution_count": 27,
   "id": "blessed-denial",
   "metadata": {
    "collapsed": true,
    "jupyter": {
     "outputs_hidden": true
    }
   },
   "outputs": [
    {
     "name": "stdout",
     "output_type": "stream",
     "text": [
      "3\n"
     ]
    }
   ],
   "source": [
    "from random import *\n",
    "z = randint(1, 10) + 1\n",
    "print(z)"
   ]
  },
  {
   "cell_type": "code",
   "execution_count": 28,
   "id": "julian-edition",
   "metadata": {
    "collapsed": true,
    "jupyter": {
     "outputs_hidden": true
    }
   },
   "outputs": [
    {
     "name": "stdout",
     "output_type": "stream",
     "text": [
      "48\n"
     ]
    }
   ],
   "source": [
    "from random import *\n",
    "z = randint(1, 100)\n",
    "print(z)"
   ]
  },
  {
   "cell_type": "markdown",
   "id": "sought-glenn",
   "metadata": {
    "slideshow": {
     "slide_type": "skip"
    }
   },
   "source": [
    "## Aufgabe 3: \n",
    "Erzeuge eine Zufallszahl im jeweils angegebenen Bereich und gib das Zeichen aus, dessen ASCII-Code der Zufallszahl entspricht. Bei Bedarf: Starthilfe bei Frau Heußer. Fasse zusammen.\n",
    "- Zufallszahl z von 48 bis 57\n",
    "- Zufallszahl z von 58 bis 64\n",
    "- Zufallszahl z von 65 bis 90\n",
    "- Zufallszahl z von 97 bis 122\n",
    "- deine Idee ..."
   ]
  },
  {
   "cell_type": "markdown",
   "id": "mighty-share",
   "metadata": {},
   "source": [
    "### Etappe4: Algorithmus: Gebnerieren eines sicheren Passwortes in Python programmieren \n",
    "Implementiere nun deinen Algorithmus zur Generierung eines sicheren Passwortes. Gehe etappenweise vor. Ist eine Etappe gelungen, gehe die nächste herausforderung an - je nach deinem Vermögen:\n",
    "- Biberpasswort erzeugen: p gefolgt von 6 Ziffern, z.B. p237569\n",
    "- Passwort aus Groß- und Kleinbuchstaben\n",
    "- Passwort aus Groß- und Kleinbuchstaben und Ziffern\n",
    "- Passwort aus Groß- und Kleinbuchstaben, Ziffern und Sonerzeichen\n",
    "- Passwort aus Groß- und Kleinbuchstaben, Ziffern und Sonerzeichen in zufälliger Reihenfolge\n",
    "- Passwort aus Zeichensorten, die User vorgibt  \n"
   ]
  },
  {
   "cell_type": "code",
   "execution_count": null,
   "id": "enhanced-tablet",
   "metadata": {},
   "outputs": [],
   "source": [
    "# Dein Code ...\n"
   ]
  }
 ],
 "metadata": {
  "kernelspec": {
   "display_name": "Python 3",
   "language": "python",
   "name": "python3"
  },
  "language_info": {
   "codemirror_mode": {
    "name": "ipython",
    "version": 3
   },
   "file_extension": ".py",
   "mimetype": "text/x-python",
   "name": "python",
   "nbconvert_exporter": "python",
   "pygments_lexer": "ipython3",
   "version": "3.8.6"
  }
 },
 "nbformat": 4,
 "nbformat_minor": 5
}
