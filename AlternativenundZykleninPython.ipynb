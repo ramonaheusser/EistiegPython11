{
 "cells": [
  {
   "cell_type": "markdown",
   "id": "crude-travel",
   "metadata": {},
   "source": [
    "# Algorithmus erdacht - wir implementieren den Algorithmus in eine Programmiersprache"
   ]
  },
  {
   "cell_type": "markdown",
   "id": "chicken-walter",
   "metadata": {},
   "source": [
    "## Alternativen (Verzweigungen) und Zyklen (Schleifen) in Python "
   ]
  },
  {
   "cell_type": "markdown",
   "id": "distant-boston",
   "metadata": {},
   "source": [
    "Heute bearbeiten wir unser zweites Notebook\n",
    "- **Wenn** der Programm-User ein Passwort aus Klein- und Großbuchstaben möchte, **dann** erhöht sich der Zeichenvorrat auf 52\n",
    "- **Wenn** der Programm-User ein Passwort ohne Mehrfachzeichen möchte, **dann** berechnet man die Anzahl möglicher Passswörter auf andere Weise als mit Zeichenwiederholung\n",
    "- --> wir programmieren eine **Alternative (Verzweigung)** \n",
    "-\n",
    "- Die Anzahl möglicher Passwörter ohne Mehrfachzeichen berechnet sich als Variation je nach Passwortlänge mit   26 * 25 * 24 * ... * (26 - laenge + 1)\n",
    "- --> wir programmieren einen **Zyklus (Schleife)** , um den Algorithmus allgemeingütig für jede Passwortlänge zu gestalten "
   ]
  },
  {
   "cell_type": "markdown",
   "id": "intellectual-germany",
   "metadata": {},
   "source": [
    "### Ziel: Optimierung unseres Programmes zur Beurteilung eines Passwortes \n",
    "- **Erweiterung1:** je nachdem, ob der User Mehrfachzeichen im Passwort haben möchte oder nicht, verzweigt der Algorithmus in die entsprechende Berechnung\n",
    "- **Erweiterung2:** bei der Berechnung der möglichen Passwortanzahl ohne Mehrfachzeichen nutzen wir Zyklen, um unseren Algorithmus allgemeingültiger zu gestalten"
   ]
  },
  {
   "cell_type": "markdown",
   "id": "rational-float",
   "metadata": {},
   "source": [
    "### Etappe1: Die Algorithmusstruktur Alternative (Verzweigung) in Python programmieren \n",
    "### Inhalt\n",
    "- **if, else** \n",
    "- **elif**\n",
    "- **Vergleichsoperatoren** **< ; >; ==; >= ; <=; !=(ungleich)**  und logische Verknüpfungen mit **AND, OR**, **NOT**\n"
   ]
  },
  {
   "cell_type": "markdown",
   "id": "recorded-pharmacy",
   "metadata": {},
   "source": [
    "![](./Bilder/Alternativen.jpg)"
   ]
  },
  {
   "cell_type": "markdown",
   "id": "proud-aerospace",
   "metadata": {},
   "source": [
    "### wenn ... dann \n",
    "- wird programmiert mit     **if:**  und **Einrückung des auszuführenden Blocks auf der nächsten Zeile**"
   ]
  },
  {
   "cell_type": "code",
   "execution_count": 1,
   "id": "latter-wrong",
   "metadata": {
    "collapsed": true,
    "jupyter": {
     "outputs_hidden": true
    },
    "slideshow": {
     "slide_type": "-"
    }
   },
   "outputs": [
    {
     "name": "stdout",
     "output_type": "stream",
     "text": [
      "Zahl ist kleiner als 42!\n"
     ]
    }
   ],
   "source": [
    "zahl = 7\n",
    "\n",
    "if zahl < 42:\n",
    "    print(\"Zahl ist kleiner als 42!\")"
   ]
  },
  {
   "cell_type": "markdown",
   "id": "stylish-craps",
   "metadata": {},
   "source": [
    "### wenn ... dann ...  sonst\n",
    "- wird programmiert mit     **if:** **else:**  und jeweils **Einrückung des auszuführenden Blocks auf der nächsten Zeile**"
   ]
  },
  {
   "cell_type": "code",
   "execution_count": 2,
   "id": "foreign-output",
   "metadata": {
    "collapsed": true,
    "jupyter": {
     "outputs_hidden": true
    },
    "slideshow": {
     "slide_type": "subslide"
    }
   },
   "outputs": [
    {
     "name": "stdout",
     "output_type": "stream",
     "text": [
      "Zu zahlen:  95.0 Euro\n"
     ]
    }
   ],
   "source": [
    "preis = 100\n",
    "\n",
    "if preis < 50:\n",
    "    rabatt = 0\n",
    "    print(\"Unter 50€ wird kein Rabatt gewährt\")\n",
    "else:\n",
    "    rabatt = 5\n",
    "    preis = preis * (1 - rabatt / 100)\n",
    "   \n",
    "print(\"Zu zahlen: \", preis, \"Euro\")"
   ]
  },
  {
   "cell_type": "markdown",
   "id": "australian-police",
   "metadata": {},
   "source": [
    "**Übung 1:** Beschreibe den Zweck des obigen Algorithmus. Experimentiere mit verschiedenen Werten für die Variable Preis."
   ]
  },
  {
   "cell_type": "markdown",
   "id": "rubber-spectacular",
   "metadata": {},
   "source": [
    "### geschachtelte Alternativen \n",
    "- werden programmiert mit     **if:** **elif:**  und jeweils **Einrückung des auszuführenden Blocks auf der nächsten Zeile**"
   ]
  },
  {
   "cell_type": "code",
   "execution_count": 3,
   "id": "exterior-heath",
   "metadata": {
    "collapsed": true,
    "jupyter": {
     "outputs_hidden": true
    },
    "slideshow": {
     "slide_type": "subslide"
    }
   },
   "outputs": [
    {
     "name": "stdout",
     "output_type": "stream",
     "text": [
      "Grün\n"
     ]
    }
   ],
   "source": [
    "color = \"green\"\n",
    "\n",
    "if color == \"red\":\n",
    "    print(\"Rot\")\n",
    "elif color == \"blue\":\n",
    "    print(\"Blau\")\n",
    "elif color == \"green\":\n",
    "    print(\"Grün\")\n",
    "else:\n",
    "    print(\"Etwas anderes\")"
   ]
  },
  {
   "cell_type": "markdown",
   "id": "cordless-notice",
   "metadata": {},
   "source": [
    "### Vergleichsoperatoren\n",
    "- werden in **Kontrollstrukturen (Alternativen und Zyklen)** verwendet \n",
    "- das **Ergebnis** der Überprüfungen ist **true oder false** \n",
    "- zwischen Werten / Variablen / Ausdrücken und Vergleichsoperatoren ein **Leerzeichen** setzen\n",
    "- das Ergebnis der Überprüfung kann wie in den Beispielen gezeigt **auf zwei Arten ausgegeben** werden"
   ]
  },
  {
   "cell_type": "code",
   "execution_count": 4,
   "id": "adjustable-bonus",
   "metadata": {
    "collapsed": true,
    "jupyter": {
     "outputs_hidden": true
    },
    "slideshow": {
     "slide_type": "fragment"
    }
   },
   "outputs": [
    {
     "name": "stdout",
     "output_type": "stream",
     "text": [
      "Wahr\n"
     ]
    }
   ],
   "source": [
    "if 6 < 7:\n",
    "    print(\"Wahr\")"
   ]
  },
  {
   "cell_type": "code",
   "execution_count": 5,
   "id": "ordinary-athletics",
   "metadata": {
    "collapsed": true,
    "jupyter": {
     "outputs_hidden": true
    },
    "slideshow": {
     "slide_type": "-"
    }
   },
   "outputs": [
    {
     "name": "stdout",
     "output_type": "stream",
     "text": [
      "True\n"
     ]
    }
   ],
   "source": [
    "print(6 < 7)"
   ]
  },
  {
   "cell_type": "code",
   "execution_count": 6,
   "id": "simple-sensitivity",
   "metadata": {
    "collapsed": true,
    "jupyter": {
     "outputs_hidden": true
    },
    "slideshow": {
     "slide_type": "fragment"
    }
   },
   "outputs": [
    {
     "name": "stdout",
     "output_type": "stream",
     "text": [
      "Falsch\n"
     ]
    }
   ],
   "source": [
    "if 6 > 7:\n",
    "    print(\"Wahr\")\n",
    "else:\n",
    "    print(\"Falsch\")"
   ]
  },
  {
   "cell_type": "code",
   "execution_count": 7,
   "id": "instrumental-receiver",
   "metadata": {
    "collapsed": true,
    "jupyter": {
     "outputs_hidden": true
    },
    "slideshow": {
     "slide_type": "-"
    }
   },
   "outputs": [
    {
     "name": "stdout",
     "output_type": "stream",
     "text": [
      "False\n"
     ]
    }
   ],
   "source": [
    "print(6 > 7)"
   ]
  },
  {
   "cell_type": "markdown",
   "id": "minimal-wages",
   "metadata": {
    "slideshow": {
     "slide_type": "subslide"
    }
   },
   "source": [
    "- **Kleiner als und Größer als**  mit < und >  programmieren\n",
    "- **Gleich**  mit == programmieren\n",
    "- **Kleiner gleich, Größer gleich**  mit <= bzw. >=  programmieren"
   ]
  },
  {
   "cell_type": "code",
   "execution_count": 8,
   "id": "nutritional-mongolia",
   "metadata": {
    "collapsed": true,
    "jupyter": {
     "outputs_hidden": true
    },
    "slideshow": {
     "slide_type": "fragment"
    }
   },
   "outputs": [
    {
     "name": "stdout",
     "output_type": "stream",
     "text": [
      "Wert ist höchstens 5\n",
      "Wert ist mindestens 5\n",
      "Wert ist gleich 5\n",
      "Wert ist höchstens 5\n"
     ]
    }
   ],
   "source": [
    "value = 5\n",
    "\n",
    "if value < 5:\n",
    "    print(\"Wert ist kleiner als 5\")\n",
    "    \n",
    "if value > 5:\n",
    "    print(\"Wert ist größer als 5\")\n",
    "    \n",
    "if value <= 5:\n",
    "    print(\"Wert ist höchstens 5\")\n",
    "\n",
    "if value >= 5:\n",
    "    print(\"Wert ist mindestens 5\")\n",
    "          \n",
    "if value == 5:\n",
    "    print(\"Wert ist gleich 5\")\n",
    "    \n",
    "if value > 5 and value < 10:\n",
    "    print(\"Wert ist zwischen 5 und 10!\")\n",
    "    \n",
    "if value > 5 or value > 10:\n",
    "    print(\"Wert ist sogar größer als 5\")\n",
    "\n",
    "if not value > 5:\n",
    "    print(\"Wert ist höchstens 5\")\n",
    "    \n",
    "if value != 5:\n",
    "    print(\"Wert ist nicht 5\")"
   ]
  },
  {
   "cell_type": "markdown",
   "id": "regulation-insight",
   "metadata": {},
   "source": [
    "**Übung 2:** Experimentiere in obigem Programm mit verschiedenen Werten für die Variable value."
   ]
  },
  {
   "cell_type": "markdown",
   "id": "indoor-spray",
   "metadata": {},
   "source": [
    "### Etappe2: Wir implementieren **Erweiterung1:** je nachdem, ob der User Mehrfachzeichen im Passwort haben möchte oder nicht, verzweigt der Algorithmus in die entsprechende Berechnung"
   ]
  },
  {
   "cell_type": "markdown",
   "id": "norman-macro",
   "metadata": {},
   "source": [
    "**Übung 3:** Implementiere die **Erweiterung 1** für ein Passwort aus 8 Zeichen. "
   ]
  },
  {
   "cell_type": "code",
   "execution_count": 9,
   "id": "upper-chamber",
   "metadata": {},
   "outputs": [],
   "source": [
    "# Gib hier deinen Programmcode ein\n"
   ]
  },
  {
   "cell_type": "markdown",
   "id": "comparative-azerbaijan",
   "metadata": {},
   "source": [
    "### Etappe3: Die Algorithmusstruktur Zyklus (Schleife) in Python programmieren \n",
    "### Inhalt\n",
    "- **while** \n",
    "- **for in**\n",
    "- **range**"
   ]
  },
  {
   "cell_type": "markdown",
   "id": "neutral-remainder",
   "metadata": {},
   "source": [
    "![](./Bilder/zyklen.jpg)"
   ]
  },
  {
   "cell_type": "markdown",
   "id": "preliminary-framework",
   "metadata": {},
   "source": [
    "- Eine **Schleife mit Startbedingung** wird mit **while** programmiert.\n",
    "- Nur **so lange die Startbedingung erfüllt ist**, wird der Block nach : ausgeführt\n",
    "- es ist daher auch möglich, dass der Block in der Schleife gar nicht ausgeführt wird"
   ]
  },
  {
   "cell_type": "markdown",
   "id": "initial-belle",
   "metadata": {},
   "source": [
    "**Übung 3:** Experimentiere im folgenden Programm mit verschiedenen Werten von n."
   ]
  },
  {
   "cell_type": "code",
   "execution_count": 10,
   "id": "lyric-wealth",
   "metadata": {
    "collapsed": true,
    "jupyter": {
     "outputs_hidden": true
    }
   },
   "outputs": [
    {
     "name": "stdout",
     "output_type": "stream",
     "text": [
      "4\n",
      "3\n",
      "2\n",
      "1\n"
     ]
    }
   ],
   "source": [
    "n = 4\n",
    "\n",
    "while n > 0:\n",
    "    print(n)\n",
    "    n = n - 1"
   ]
  },
  {
   "cell_type": "markdown",
   "id": "surprising-lloyd",
   "metadata": {},
   "source": [
    "- Eine **Zählschleife mit bekannter Anzahl von Wiederholungen** wird mit **for ... in range ...** programmiert.\n",
    "- nach jedem Durchgang wird der Wiederholungszähler (Iterator) automatisch um 1 erhöht "
   ]
  },
  {
   "cell_type": "code",
   "execution_count": 11,
   "id": "about-humor",
   "metadata": {
    "collapsed": true,
    "jupyter": {
     "outputs_hidden": true
    },
    "slideshow": {
     "slide_type": "-"
    }
   },
   "outputs": [
    {
     "name": "stdout",
     "output_type": "stream",
     "text": [
      "7\n",
      "0\n",
      "1\n",
      "2\n",
      "3\n",
      "4\n",
      "4\n"
     ]
    }
   ],
   "source": [
    "i = 7\n",
    "\n",
    "print(i)\n",
    "\n",
    "for i in range(5):\n",
    "    print(i)\n",
    "    \n",
    "print(i)"
   ]
  },
  {
   "cell_type": "markdown",
   "id": "offshore-reservation",
   "metadata": {
    "slideshow": {
     "slide_type": "subslide"
    }
   },
   "source": [
    "**range**\n",
    "- Mit `range` können wir einen Iterator (Zähler) über eine Zahleninterval mit einer bestimmten Schrittweite erstellen\n",
    "- `range(5)` erstellt einen Iterator mit den Werten 0 bis 4 (also insgesamt 5 Werte)\n",
    "- `range(5)` entspricht `range(0, 5)` (=> der Standard ist immer 0 und kann daher weggelassen werden)\n",
    "    - wir können also auch einen Startwert hinzufügen, der dann Bestandteil des Iterators ist\n",
    "- Zuletzt können wir noch eine Schrittweite angeben z.B. `range(0, 5, 1)`\n",
    "    - hier ist 1 der Default-Wert und kann daher auch wegelassen werden"
   ]
  },
  {
   "cell_type": "markdown",
   "id": "public-lambda",
   "metadata": {
    "slideshow": {
     "slide_type": "subslide"
    }
   },
   "source": [
    "**break und continue**\n",
    "- Mit `break` kann man abhängig von einer Bedingung einen Zyklus unterbrechen\n",
    "- Mit `continue` kann man abhängig von einer Bedingung einen Zyklus fortsetzen"
   ]
  },
  {
   "cell_type": "markdown",
   "id": "awful-blend",
   "metadata": {},
   "source": [
    "**Übung 4:** Beschreibe die Wirkung der folgenden zwei Programme, experimentiere mit verschiedenen Werten für range, wenn du willst auch mit break und continue."
   ]
  },
  {
   "cell_type": "code",
   "execution_count": 12,
   "id": "recreational-marker",
   "metadata": {
    "collapsed": true,
    "jupyter": {
     "outputs_hidden": true
    },
    "slideshow": {
     "slide_type": "subslide"
    }
   },
   "outputs": [
    {
     "name": "stdout",
     "output_type": "stream",
     "text": [
      "0\n",
      "1\n",
      "2\n",
      "3\n",
      "4\n",
      "5\n"
     ]
    }
   ],
   "source": [
    "for i in range(100):\n",
    "    if i > 5:\n",
    "        break\n",
    "    print(i)"
   ]
  },
  {
   "cell_type": "code",
   "execution_count": 13,
   "id": "laughing-mattress",
   "metadata": {
    "collapsed": true,
    "jupyter": {
     "outputs_hidden": true
    },
    "slideshow": {
     "slide_type": "subslide"
    }
   },
   "outputs": [
    {
     "name": "stdout",
     "output_type": "stream",
     "text": [
      "0\n",
      "10\n",
      "20\n",
      "30\n",
      "40\n",
      "50\n",
      "60\n",
      "70\n",
      "80\n",
      "90\n"
     ]
    }
   ],
   "source": [
    "for i in range(100):\n",
    "    if i % 10 != 0:\n",
    "        continue\n",
    "    print(i)"
   ]
  },
  {
   "cell_type": "markdown",
   "id": "greek-moscow",
   "metadata": {
    "slideshow": {
     "slide_type": "subslide"
    }
   },
   "source": [
    "**TIPP**: wenn du hinter ein Python-Befehlswort ein ? setzt, erhältst du eine Erklärung zu diesem befehl - halt englisch ..."
   ]
  },
  {
   "cell_type": "code",
   "execution_count": 14,
   "id": "measured-couple",
   "metadata": {
    "collapsed": true,
    "jupyter": {
     "outputs_hidden": true
    },
    "slideshow": {
     "slide_type": "fragment"
    }
   },
   "outputs": [
    {
     "data": {
      "text/plain": [
       "\u001b[0;31mInit signature:\u001b[0m \u001b[0mrange\u001b[0m\u001b[0;34m(\u001b[0m\u001b[0mself\u001b[0m\u001b[0;34m,\u001b[0m \u001b[0;34m/\u001b[0m\u001b[0;34m,\u001b[0m \u001b[0;34m*\u001b[0m\u001b[0margs\u001b[0m\u001b[0;34m,\u001b[0m \u001b[0;34m**\u001b[0m\u001b[0mkwargs\u001b[0m\u001b[0;34m)\u001b[0m\u001b[0;34m\u001b[0m\u001b[0;34m\u001b[0m\u001b[0m\n",
       "\u001b[0;31mDocstring:\u001b[0m     \n",
       "range(stop) -> range object\n",
       "range(start, stop[, step]) -> range object\n",
       "\n",
       "Return an object that produces a sequence of integers from start (inclusive)\n",
       "to stop (exclusive) by step.  range(i, j) produces i, i+1, i+2, ..., j-1.\n",
       "start defaults to 0, and stop is omitted!  range(4) produces 0, 1, 2, 3.\n",
       "These are exactly the valid indices for a list of 4 elements.\n",
       "When step is given, it specifies the increment (or decrement).\n",
       "\u001b[0;31mType:\u001b[0m           type\n",
       "\u001b[0;31mSubclasses:\u001b[0m     \n"
      ]
     },
     "metadata": {},
     "output_type": "display_data"
    }
   ],
   "source": [
    "range?"
   ]
  },
  {
   "cell_type": "markdown",
   "id": "strong-hello",
   "metadata": {
    "slideshow": {
     "slide_type": "skip"
    }
   },
   "source": [
    "**Übung 5:** Vervollständige das Programm zur Berechnung der Fakultät,  Beispiel: 5! = 5 * 4 * 3 * 2 * 1. Überprüfe für verschiedene Werte von n."
   ]
  },
  {
   "cell_type": "code",
   "execution_count": 15,
   "id": "convinced-manual",
   "metadata": {
    "slideshow": {
     "slide_type": "skip"
    }
   },
   "outputs": [
    {
     "name": "stdout",
     "output_type": "stream",
     "text": [
      "5 ! wird berechnet:\n"
     ]
    }
   ],
   "source": [
    "n = 5\n",
    "print(n,\"! wird berechnet:\")\n",
    "    # dein Code hier:\n",
    "    \n"
   ]
  },
  {
   "cell_type": "markdown",
   "id": "logical-porter",
   "metadata": {},
   "source": [
    "### Etappe2: Wir implementieren **Erweiterung2:** bei der Berechnung der möglichen Passwortanzahl ohne Mehrfachzeichen nutzen wir Zyklen, um unseren Algorithmus allgemeingültiger zu gestalten"
   ]
  },
  {
   "cell_type": "markdown",
   "id": "charitable-engagement",
   "metadata": {},
   "source": [
    "**Übung 6:** Implementiere die **Erweiterung 2** für ein Passwort aus n Zeichen. Experimentiere mit verschiedenen Werten von n und wahl und überprüfe die Ergebnisse."
   ]
  },
  {
   "cell_type": "code",
   "execution_count": 16,
   "id": "missing-warrant",
   "metadata": {},
   "outputs": [],
   "source": [
    "# Gib hier deinen Programmcode ein\n"
   ]
  },
  {
   "cell_type": "markdown",
   "id": "hybrid-bargain",
   "metadata": {},
   "source": [
    "**HINWEIS:** \n",
    "- In Python gibt es keine Schleife mit Abbruchbedingung (in anderen Sprachen repeat ... until ...) - das ist nicht schlimm, da man Alles auch mit while- oder Zählschleife programmieren kann"
   ]
  }
 ],
 "metadata": {
  "kernelspec": {
   "display_name": "Python 3",
   "language": "python",
   "name": "python3"
  },
  "language_info": {
   "codemirror_mode": {
    "name": "ipython",
    "version": 3
   },
   "file_extension": ".py",
   "mimetype": "text/x-python",
   "name": "python",
   "nbconvert_exporter": "python",
   "pygments_lexer": "ipython3",
   "version": "3.8.6"
  }
 },
 "nbformat": 4,
 "nbformat_minor": 5
}
