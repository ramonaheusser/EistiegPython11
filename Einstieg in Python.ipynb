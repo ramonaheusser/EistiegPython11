{
 "cells": [
  {
   "cell_type": "markdown",
   "id": "voluntary-guyana",
   "metadata": {},
   "source": [
    "# Algorithmus erdacht - wir implementieren den Algorithmus in eine Programmiersprache"
   ]
  },
  {
   "cell_type": "markdown",
   "id": "southwest-norman",
   "metadata": {},
   "source": [
    "## Python - eine moderne Programmiersprache erobert die Informatik"
   ]
  },
  {
   "cell_type": "markdown",
   "id": "casual-chorus",
   "metadata": {},
   "source": [
    "In einem sogenannten \"Notebook\" im Sinne von Notizbuch, können wir\n",
    "- Text, Hinweise zur Bedienung unseres Programms, Bilder u.ä. als **markdown** eingeben\n",
    "- Programmcode als **Code** eingeben\n",
    "- über die Schaltfläche **+** erzeugen wir ein solches Element\n",
    "- über die Schaltfläche **Play** oder **Shift-Enter** (Sprung in die nächste Zeile) der **Strg-Enter**  führen wir Text/Bild oder Programmcode aus"
   ]
  },
  {
   "cell_type": "markdown",
   "id": "requested-zoning",
   "metadata": {},
   "source": [
    "![alt text](https://schulen-jupyter.inf.hszg.de/user/ramonaheusser/lab/tree/lehrerweiterbildung-2021/Demo%20KI/CodemarkupSetzenAusfuehren.jpg)"
   ]
  },
  {
   "cell_type": "markdown",
   "id": "particular-hearts",
   "metadata": {},
   "source": [
    "- Jede Programmiersprache hat Ihre Syntax = Vokabular (Befehlsworte) und Grammatik (Anordnung).\n",
    "- Nur dann kann das Programm mittels Interpreter beim Programmstart in Maschinencode übersetzt und ausgeführt werden.\n",
    "- Python ist eine Interpreter-Sprache, d.h. ein Programm kann nur ausgeführt werden, wenn auch der Python-Interpreter installiert ist, \n",
    "  ähnlich wie bei Java. Es gibt auch Compilersprachen - hier wird erst eine exe-Datei erzeugt, die dann in allen Umgebungen startbar ist."
   ]
  },
  {
   "cell_type": "markdown",
   "id": "bigger-recommendation",
   "metadata": {},
   "source": [
    "## Wir arbeiten mit Zahldatentypen in Python"
   ]
  },
  {
   "cell_type": "markdown",
   "id": "knowing-explosion",
   "metadata": {},
   "source": [
    "### Ziel: Programm berechnet abhängig von der Stellenzahl die Anzahl möglicher Passwörter aus Kleinbuchstaben \n",
    "- **Erweiterung1:** Passwortanzahl, wenn zwischen Klein- und Großbuchstaben unterschieden wird\n",
    "- **Erweiterung2:** Passwortanzahl, wenn neben Klein- und Großbuchstaben auch Ziffern möglich sind\n",
    "- **Erweiterung3:** Passwortanzahl, wenn Klein-, Großbuchstaben, Ziffern und die Zeichen + - . , ! ? _ möglich sind\n",
    "- **Erweiterung4:** Zeitdauer bis ein solches Passwort mittels Bruteforce geknackt wird, wenn pro Versuch 5 Sekunden veranschlagt werden\n",
    "- **Erweiterung5:** Zeitdauer bis ein solches Passwort mittels Bruteforce geknackt wird, wenn pro Versuch sek Sekunden veranschlagt werden"
   ]
  },
  {
   "cell_type": "markdown",
   "id": "better-forum",
   "metadata": {},
   "source": [
    "### Etappe1: Zahldatentypen in Python, Rechenoperationen und Ausgabebefehl"
   ]
  },
  {
   "cell_type": "markdown",
   "id": "mediterranean-causing",
   "metadata": {},
   "source": [
    "- In Python können wir alle Operationen auf Zahlen anwenden, die wir aus der Mathematik kennen\n",
    "- Im Folgenden verwenden wir `print(<String>, <Zahl>)`, dabei wird automatisch die Zahl in einen String verwandelt und ein Leerzeichen zwischen den beiden Teilen eingefügt\n",
    "- Mit `+` können wir bei der Ausgabe Daten gleichen Typs, z.B. Zeichen und Zeichenketten verknüpfen\n",
    "- `x ** y` entspricht $x^y$\n",
    "- `//` rundet das Ergebnis der Division ab\n",
    "- `%` ist das Symbol für den Modulo-Operanden\n",
    "- mit = weist man einer Varialen einen Wert zu, z.B.  flaeche = 10 * 8  oder  flaeche = lang * breit  (Vorher müssen lang und breit natürlich einen Wert erhalten haben)"
   ]
  },
  {
   "cell_type": "markdown",
   "id": "partial-contrary",
   "metadata": {},
   "source": [
    "### Übungsaufgaben\n",
    "\n",
    "- Eine Aufgabe besteht immer aus mindestens einer Eingabe-Zelle\n",
    "- In dieser Zelle kann bereits Code stehen\n",
    "- Diesen solltest du nicht ändern\n",
    "    - Möchtest du alternative Lösungen testen oder andere Eingabewerte verwenden kannst du mit der Schaltfläche + weitere Zellen einfügen\n",
    "    - Achte darauf, dass Variablen innerhalb eines Notebooks global sind und dadurch von dir eventuell überschrieben werden\n",
    "    - **Falls es bei der Ausführung zu Problemen kommt, bzw. du eine andere Ausgabe erwartest, solltest du alle dazugehörigen Zellen neu ausführen** oder mit der Schaltfläche **Vorspulen**\n",
    "    alles resetten"
   ]
  },
  {
   "cell_type": "markdown",
   "id": "august-bleeding",
   "metadata": {},
   "source": [
    "**Übung 1:** Sichte die Programmzeilen. Vermute eine Ausgabe. Überprüfe, indem du den Code mit der Playtaste ausführst."
   ]
  },
  {
   "cell_type": "code",
   "execution_count": 2,
   "id": "temporal-charm",
   "metadata": {},
   "outputs": [
    {
     "name": "stdout",
     "output_type": "stream",
     "text": [
      "5 + 4 = 9\n",
      "5 - 4 = 1\n",
      "5 * 4 = 20\n",
      "2 ** 3 = 8\n",
      "5 / 4 = 1.25\n",
      "5 // 4 = 1\n",
      "8 % 3 = 2\n"
     ]
    }
   ],
   "source": [
    "print(\"5 + 4 =\", 5 + 4)\n",
    "print(\"5 - 4 =\", 5 - 4)\n",
    "print(\"5 * 4 =\", 5 * 4)\n",
    "print(\"2 ** 3 =\", 2 ** 3)\n",
    "print(\"5 / 4 =\", 5 / 4)\n",
    "print(\"5 // 4 =\", 5 // 4)\n",
    "print(\"8 % 3 =\", 8 % 3)"
   ]
  },
  {
   "cell_type": "markdown",
   "id": "present-variation",
   "metadata": {},
   "source": [
    "**Übung 2:** Die Funktionsweise der  `round()`-Funktion (,5 wird immer aufgerundet) und der Ganzzahlausgabe mit **//**"
   ]
  },
  {
   "cell_type": "code",
   "execution_count": 3,
   "id": "latter-estonia",
   "metadata": {},
   "outputs": [
    {
     "name": "stdout",
     "output_type": "stream",
     "text": [
      "6 / 4 = 1.5\n",
      "10 / 4 = 2.5\n",
      "11 / 4 = 2.75\n",
      "13 / 4 = 3.25\n",
      "6 // 4 = 1\n",
      "10 // 4 = 2\n",
      "11 // 4 = 2\n",
      "round(6 / 4) = 2\n",
      "round(10 / 4) = 2\n"
     ]
    }
   ],
   "source": [
    "print(\"6 / 4 =\", 6 / 4)\n",
    "print(\"10 / 4 =\", 10 / 4)\n",
    "print(\"11 / 4 =\", 11 / 4)\n",
    "print(\"13 / 4 =\", 13 / 4)\n",
    "\n",
    "print(\"6 // 4 =\", 6 // 4)\n",
    "print(\"10 // 4 =\", 10 // 4)\n",
    "print(\"11 // 4 =\", 11 // 4)\n",
    "\n",
    "print(\"round(6 / 4) =\", round(6 / 4))\n",
    "print(\"round(10 / 4) =\", round(10 / 4))"
   ]
  },
  {
   "cell_type": "markdown",
   "id": "decimal-presentation",
   "metadata": {},
   "source": [
    "### Etappe2: Mehrzeilige Programme: Sequenzen (Abfolgen)"
   ]
  },
  {
   "cell_type": "markdown",
   "id": "rotary-chicken",
   "metadata": {},
   "source": [
    "- Wir verwenden kein Semikolon\n",
    "- Stattdessen wird ein Befehl immer am Ende einer Zeile abgeschlossen (mit einer Ausnahme)\n"
   ]
  },
  {
   "cell_type": "markdown",
   "id": "perceived-metadata",
   "metadata": {},
   "source": [
    "**Übung 3:** Probiere selbst in folgendem Code-Fenster ein Stück Programm aus, welches mit Zahldaten rechnet und Ergebnisse ausgibt"
   ]
  },
  {
   "cell_type": "code",
   "execution_count": 8,
   "id": "active-snake",
   "metadata": {},
   "outputs": [
    {
     "name": "stdout",
     "output_type": "stream",
     "text": [
      "30\n"
     ]
    }
   ],
   "source": [
    "# Beispiel:\n",
    "\n",
    "flaeche = 3 * 10\n",
    "print(flaeche)\n",
    "\n",
    "# Dein Code ab hier:\n",
    "\n"
   ]
  },
  {
   "cell_type": "markdown",
   "id": "trained-credits",
   "metadata": {},
   "source": [
    "### Etappe3: Wir implementieren unser Programm zu Passwortlängen und deren Sicherheit"
   ]
  },
  {
   "cell_type": "markdown",
   "id": "further-invite",
   "metadata": {},
   "source": [
    "### Entwirf den Algorithmus zuerst als Ablaufplan, implementiere dann das Programm in der folgenden Code-Zelle."
   ]
  },
  {
   "cell_type": "code",
   "execution_count": 9,
   "id": "romantic-sleeping",
   "metadata": {},
   "outputs": [],
   "source": [
    "# Passwortvarianten und deren Sicherheit\n",
    "\n",
    "# Dein Code ab hier:"
   ]
  },
  {
   "cell_type": "code",
   "execution_count": null,
   "id": "signal-logistics",
   "metadata": {},
   "outputs": [],
   "source": []
  }
 ],
 "metadata": {
  "kernelspec": {
   "display_name": "Python 3",
   "language": "python",
   "name": "python3"
  },
  "language_info": {
   "codemirror_mode": {
    "name": "ipython",
    "version": 3
   },
   "file_extension": ".py",
   "mimetype": "text/x-python",
   "name": "python",
   "nbconvert_exporter": "python",
   "pygments_lexer": "ipython3",
   "version": "3.8.6"
  }
 },
 "nbformat": 4,
 "nbformat_minor": 5
}
